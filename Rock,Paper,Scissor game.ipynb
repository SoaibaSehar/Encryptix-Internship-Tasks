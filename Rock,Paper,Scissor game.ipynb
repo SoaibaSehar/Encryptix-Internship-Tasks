{
 "cells": [
  {
   "cell_type": "code",
   "execution_count": null,
   "id": "a1f0fa22",
   "metadata": {},
   "outputs": [
    {
     "name": "stdout",
     "output_type": "stream",
     "text": [
      "Choose Rock,Paper Or Scissors:Paper\n",
      "You Chose: Paper\n",
      "Computer Chose: Rock\n",
      "You Win!\n",
      "Do you want to play again?Y/N:Y\n",
      "Choose Rock,Paper Or Scissors:Scissors\n",
      "You Chose: Scissors\n",
      "Computer Chose: Paper\n",
      "You Win!\n"
     ]
    }
   ],
   "source": [
    "import random\n",
    "\n",
    "keepGoing=\"Y\"\n",
    "while keepGoing==\"Y\":\n",
    "    options=[\"Rock\",\"Paper\",\"Scissors\"]\n",
    "\n",
    "    user_choice=input(\"Choose Rock,Paper Or Scissors:\")\n",
    "\n",
    "    computer_choice=random.choice(options)\n",
    "\n",
    "    print(\"You Chose:\",user_choice)\n",
    "    print(\"Computer Chose:\",computer_choice)\n",
    "\n",
    "    if user_choice==computer_choice:\n",
    "        print(\"Its a Tie\")\n",
    "\n",
    "    elif user_choice==\"Rock\" and computer_choice==\"Scissors\":\n",
    "        print(\"You Win!\")\n",
    "      \n",
    "    elif user_choice==\"Scissors\" and computer_choice==\"Paper\":\n",
    "        print(\"You Win!\")\n",
    "\n",
    "    elif user_choice==\"Paper\" and computer_choice==\"Rock\":\n",
    "        print(\"You Win!\")\n",
    "    \n",
    "    else:\n",
    "        print(\"Computer Wins\")\n",
    "    \n",
    "    keepGoing=input(\"Do you want to play again?Y/N:\")"
   ]
  },
  {
   "cell_type": "code",
   "execution_count": null,
   "id": "e9079a18",
   "metadata": {},
   "outputs": [],
   "source": []
  }
 ],
 "metadata": {
  "kernelspec": {
   "display_name": "Python 3 (ipykernel)",
   "language": "python",
   "name": "python3"
  },
  "language_info": {
   "codemirror_mode": {
    "name": "ipython",
    "version": 3
   },
   "file_extension": ".py",
   "mimetype": "text/x-python",
   "name": "python",
   "nbconvert_exporter": "python",
   "pygments_lexer": "ipython3",
   "version": "3.10.9"
  }
 },
 "nbformat": 4,
 "nbformat_minor": 5
}
