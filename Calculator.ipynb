{
 "cells": [
  {
   "cell_type": "code",
   "execution_count": 1,
   "id": "713f0f76",
   "metadata": {},
   "outputs": [
    {
     "name": "stdout",
     "output_type": "stream",
     "text": [
      "Options:\n",
      "Enter 'add' for addition\n",
      "Enter 'sub' for subtraction\n",
      "Enter 'mul' for multiplication\n",
      "Enter 'div' for division\n",
      "Enter 'quit' to end the program\n",
      "Enter your choice:add\n",
      "Enter First Number:45\n",
      "Enter Second Number:78\n",
      "Result: 123.0\n",
      "Options:\n",
      "Enter 'add' for addition\n",
      "Enter 'sub' for subtraction\n",
      "Enter 'mul' for multiplication\n",
      "Enter 'div' for division\n",
      "Enter 'quit' to end the program\n",
      "Enter your choice:quit\n"
     ]
    }
   ],
   "source": [
    "def add(x,y):\n",
    "    return x+y\n",
    "def subtract(x,y):\n",
    "    return x-y\n",
    "def multiply(x,y):\n",
    "    return x*y\n",
    "def divide(x,y):\n",
    "    if y==0:\n",
    "        return \"cannot divide by zero\"\n",
    "    return x/y\n",
    "\n",
    "while True:\n",
    "    print(\"Options:\")\n",
    "    print(\"Enter 'add' for addition\")\n",
    "    print(\"Enter 'sub' for subtraction\")\n",
    "    print(\"Enter 'mul' for multiplication\")\n",
    "    print(\"Enter 'div' for division\")\n",
    "    print(\"Enter 'quit' to end the program\")\n",
    "    \n",
    "    choice=input(\"Enter your choice:\")\n",
    "    \n",
    "    if choice==\"quit\":\n",
    "        break\n",
    "        \n",
    "    if choice in (\"add\",\"sub\",\"mul\",\"div\"):\n",
    "        num1=float(input(\"Enter First Number:\"))\n",
    "        num2=float(input(\"Enter Second Number:\"))\n",
    "        \n",
    "        if choice==\"add\":\n",
    "            print(\"Result:\",add(num1,num2))\n",
    "        elif choice==\"sub\":\n",
    "            print(\"Result:\",subtract(num1,num2))\n",
    "        elif choice==\"mul\":\n",
    "            print(\"Result:\",multiply(num1,num2))\n",
    "        elif choice==\"div\":\n",
    "            print(\"Result:\",divide(num1,num2))\n",
    "    else:\n",
    "        print(\"Invalid Input\")"
   ]
  },
  {
   "cell_type": "code",
   "execution_count": null,
   "id": "c86d3c5a",
   "metadata": {},
   "outputs": [],
   "source": []
  }
 ],
 "metadata": {
  "kernelspec": {
   "display_name": "Python 3 (ipykernel)",
   "language": "python",
   "name": "python3"
  },
  "language_info": {
   "codemirror_mode": {
    "name": "ipython",
    "version": 3
   },
   "file_extension": ".py",
   "mimetype": "text/x-python",
   "name": "python",
   "nbconvert_exporter": "python",
   "pygments_lexer": "ipython3",
   "version": "3.10.9"
  }
 },
 "nbformat": 4,
 "nbformat_minor": 5
}
